{
 "cells": [
  {
   "cell_type": "code",
   "execution_count": 300,
   "id": "0cb6be07",
   "metadata": {},
   "outputs": [],
   "source": [
    "#Iliana Kogia AEM:10090\n",
    "\n",
    "import pandas as pd\n",
    "import numpy as np\n",
    "import seaborn as sns\n",
    "import matplotlib.pyplot as plt\n",
    "from sklearn.model_selection import train_test_split\n",
    "from sklearn.neighbors import KNeighborsClassifier\n",
    "from sklearn.metrics import accuracy_score\n",
    "from sklearn.model_selection import cross_val_score\n",
    "from sklearn.preprocessing import StandardScaler\n",
    "from matplotlib.colors import ListedColormap\n",
    "from sklearn.svm import LinearSVC\n",
    "from sklearn.model_selection import GridSearchCV\n",
    "from sklearn.svm import SVC\n",
    "from sklearn.decomposition import PCA\n",
    "from sklearn.neural_network import MLPClassifier\n",
    "from sklearn import tree\n",
    "from sklearn.ensemble import GradientBoostingClassifier\n",
    "from sklearn.preprocessing import MinMaxScaler"
   ]
  },
  {
   "cell_type": "code",
   "execution_count": 301,
   "id": "c07d0d63",
   "metadata": {},
   "outputs": [],
   "source": [
    "data = pd.read_csv(r\"datasetC.csv\", header = None) #load dataset\n",
    "Cdata = pd.read_csv(r\"datasetCTest.csv\", header = None)"
   ]
  },
  {
   "cell_type": "code",
   "execution_count": 302,
   "id": "2bf6eaca",
   "metadata": {},
   "outputs": [
    {
     "data": {
      "text/plain": [
       "(1000, 400)"
      ]
     },
     "execution_count": 302,
     "metadata": {},
     "output_type": "execute_result"
    }
   ],
   "source": [
    "X = data.iloc[:,:400] # 400 cols == features\n",
    "y = data.iloc[:,-1] # last column == labels\n",
    "X = np.array(X) #convert to np array\n",
    "y = np.array(y) #convert to np array\n",
    "\n",
    "X_TEST_C = Cdata.iloc[:,:]\n",
    "X_TEST_C = np.array(X_TEST_C)\n",
    "X_TEST_C.shape"
   ]
  },
  {
   "cell_type": "code",
   "execution_count": 303,
   "id": "d7ff1fa3",
   "metadata": {},
   "outputs": [],
   "source": [
    "#split data train-test: 50%-50%\n",
    "X_train, X_test, y_train, y_test = train_test_split(X, y, test_size=0.2, random_state=42) "
   ]
  },
  {
   "cell_type": "code",
   "execution_count": 304,
   "id": "276c1258",
   "metadata": {},
   "outputs": [
    {
     "name": "stdout",
     "output_type": "stream",
     "text": [
      "Class 1: 914 samples\n",
      "Class 2: 782 samples\n",
      "Class 3: 820 samples\n",
      "Class 4: 771 samples\n",
      "Class 5: 713 samples\n"
     ]
    }
   ],
   "source": [
    "#find samples per class\n",
    "unique_classes, counts = np.unique(y_train, return_counts=True)\n",
    "for cls, count in zip(unique_classes, counts):\n",
    "    print(f\"Class {cls}: {count} samples\")\n",
    "\n",
    "#plt.bar(unique_classes, counts, color='blue')"
   ]
  },
  {
   "cell_type": "code",
   "execution_count": 305,
   "id": "f3b278c3",
   "metadata": {},
   "outputs": [],
   "source": [
    "#preprocess data\n",
    "scaler = MinMaxScaler(feature_range=(-1, 1))\n",
    "X_train = scaler.fit_transform(X_train)\n",
    "X_test = scaler.transform(X_test)\n",
    "X_TEST_C = scaler.transform(X_TEST_C)"
   ]
  },
  {
   "cell_type": "code",
   "execution_count": 306,
   "id": "34e53338",
   "metadata": {},
   "outputs": [],
   "source": [
    "pca = PCA(n_components = 0.98)\n",
    "X_train = pca.fit_transform(X_train)\n",
    "X_test = pca.transform(X_test)\n",
    "X_TEST_C = pca.transform(X_TEST_C)\n",
    "\n",
    "X_train = np.array(X_train)\n",
    "X_test = np.array(X_test)\n",
    "X_TEST_C = np.array(X_TEST_C)"
   ]
  },
  {
   "cell_type": "code",
   "execution_count": 307,
   "id": "3bb62ec3",
   "metadata": {},
   "outputs": [
    {
     "name": "stdout",
     "output_type": "stream",
     "text": [
      "Accuracy: 80.50%\n"
     ]
    }
   ],
   "source": [
    "from sklearn.neighbors import NearestCentroid\n",
    "clf = NearestCentroid()\n",
    "clf.fit(X_train, y_train) # fit to train set\n",
    "y_pred =clf.predict(X_test) #prediction in test set\n",
    "accuracy = accuracy_score(y_test, y_pred) #find accuracy\n",
    "classification_error = 1 - accuracy #classification error in test set\n",
    "print(f\"Accuracy: {accuracy * 100:.2f}%\")"
   ]
  },
  {
   "cell_type": "code",
   "execution_count": 308,
   "id": "acff4d7c",
   "metadata": {},
   "outputs": [
    {
     "name": "stdout",
     "output_type": "stream",
     "text": [
      "Accuracy: 80.50%\n"
     ]
    }
   ],
   "source": [
    "from sklearn.naive_bayes import GaussianNB\n",
    "clf = GaussianNB()\n",
    "clf.fit(X_train, y_train) # fit to train set\n",
    "y_pred =clf.predict(X_test) #prediction in test set\n",
    "accuracy = accuracy_score(y_test, y_pred) #find accuracy\n",
    "classification_error = 1 - accuracy #classification error in test set\n",
    "print(f\"Accuracy: {accuracy * 100:.2f}%\")"
   ]
  },
  {
   "cell_type": "code",
   "execution_count": 309,
   "id": "a1422617",
   "metadata": {
    "scrolled": true
   },
   "outputs": [
    {
     "name": "stdout",
     "output_type": "stream",
     "text": [
      "{'C': 1, 'gamma': 0.01}\n",
      "train accuracy: 92.05\n",
      "test accuracy: 83.89999999999999\n"
     ]
    }
   ],
   "source": [
    "#--------------------RBF----------------------------\n",
    "parameters = {'C': [0.1, 1, 10, 100, 1000, 10000],\n",
    "              #'gamma': [0.03, 0.04, 0.0025, 0.004, 0.0004]\n",
    "              #'gamma' : [0.4, 0.04, 0.004]\n",
    "              'gamma' : [0.1, 0.01, 0.001]\n",
    "              }\n",
    "model = SVC(kernel = 'rbf', class_weight = 'balanced')\n",
    "SVM_grid = GridSearchCV(model,\n",
    "                        parameters,\n",
    "                        #verbose=3,\n",
    "                        cv=3) # Cross validation με Κ=3\n",
    "\n",
    "SVM_grid.fit(X_train, y_train)\n",
    "\n",
    "print(SVM_grid.best_params_)\n",
    "\n",
    "best_SVM = SVM_grid.best_estimator_\n",
    "y_pred_tr = best_SVM.predict(X_train)\n",
    "accuracy_tr = accuracy_score(y_train, y_pred_tr)\n",
    "print('train accuracy:', 100*accuracy_tr)\n",
    "y_pred_ts = best_SVM.predict(X_test)\n",
    "accuarcy_ts = accuracy_score(y_test, y_pred_ts)\n",
    "print('test accuracy:', 100*accuarcy_ts)"
   ]
  },
  {
   "cell_type": "code",
   "execution_count": 310,
   "id": "d062216d",
   "metadata": {},
   "outputs": [
    {
     "name": "stdout",
     "output_type": "stream",
     "text": [
      "{'C': 0.01}\n",
      "train accuracy: 88.25\n",
      "test accuracy: 83.89999999999999\n"
     ]
    }
   ],
   "source": [
    "#-------------LINEAR---------------\n",
    "parameters = {'C': [0.001, 0.01, 0.05, 0.1, 1, 10, 100, 1000],\n",
    "              }\n",
    "model = SVC(kernel = 'linear')\n",
    "SVM_grid = GridSearchCV(model,\n",
    "                        parameters,\n",
    "                        #verbose=3,\n",
    "                        cv=3) # Cross validation με Κ=3\n",
    "\n",
    "SVM_grid.fit(X_train, y_train)\n",
    "print(SVM_grid.best_params_)\n",
    "best_SVM = SVM_grid.best_estimator_\n",
    "y_pred_tr = best_SVM.predict(X_train)\n",
    "accuracy_tr = accuracy_score(y_train, y_pred_tr)\n",
    "print('train accuracy:', 100*accuracy_tr)\n",
    "y_pred_ts = best_SVM.predict(X_test)\n",
    "accuarcy_ts = accuracy_score(y_test, y_pred_ts)\n",
    "print('test accuracy:', 100*accuarcy_ts)"
   ]
  },
  {
   "cell_type": "code",
   "execution_count": 311,
   "id": "7d6ef99a",
   "metadata": {},
   "outputs": [
    {
     "name": "stdout",
     "output_type": "stream",
     "text": [
      "{'C': 10, 'coef0': 0.5, 'degree': 5, 'gamma': 0.0025}\n",
      "train accuracy: 90.3\n",
      "test accuracy: 84.0\n"
     ]
    }
   ],
   "source": [
    "#-------POLY--------------\n",
    "parameters = {'C': [1, 10, 100, 1000],\n",
    "              'degree' : [2,3,4,5,6],\n",
    "              'gamma' : [1/400],\n",
    "               'coef0': [0.0, 0.5]\n",
    "              }\n",
    "model = SVC(kernel = 'poly')\n",
    "SVM_grid = GridSearchCV(model,\n",
    "                        parameters,\n",
    "                        #verbose=3,\n",
    "                        cv=3) # Cross validation με Κ=3\n",
    "\n",
    "SVM_grid.fit(X_train, y_train)\n",
    "print(SVM_grid.best_params_)\n",
    "best_SVM = SVM_grid.best_estimator_\n",
    "y_pred_tr = best_SVM.predict(X_train)\n",
    "accuracy_tr = accuracy_score(y_train, y_pred_tr)\n",
    "print('train accuracy:', 100*accuracy_tr)\n",
    "y_pred_ts = best_SVM.predict(X_test)\n",
    "accuarcy_ts = accuracy_score(y_test, y_pred_ts)\n",
    "print('test accuracy:', 100*accuarcy_ts)"
   ]
  },
  {
   "cell_type": "code",
   "execution_count": 312,
   "id": "0667f1db",
   "metadata": {
    "scrolled": true
   },
   "outputs": [
    {
     "name": "stdout",
     "output_type": "stream",
     "text": [
      "{'C': 1, 'coef0': 0.2, 'degree': 2, 'gamma': 0.6}\n",
      "train accuracy: 100.0\n",
      "test accuracy: 88.0\n"
     ]
    }
   ],
   "source": [
    "#-------POLY 2--------------\n",
    "parameters = {'C': [1, 10, 100, 1000],\n",
    "              'degree' : [2],\n",
    "              #'gamma' : [0.001, 1/400, 0.25, 0.025],\n",
    "              'gamma' : [0.25, 0.3, 0.4, 0.6, 1],\n",
    "               'coef0': [0.0, 0.2, 0.5]\n",
    "              }\n",
    "model = SVC(kernel = 'poly', class_weight = 'balanced')\n",
    "SVM_grid = GridSearchCV(model,\n",
    "                        parameters,\n",
    "                        #verbose=3,\n",
    "                        cv=3) # Cross validation με Κ=3\n",
    "\n",
    "SVM_grid.fit(X_train, y_train)\n",
    "print(SVM_grid.best_params_)\n",
    "best_SVM = SVM_grid.best_estimator_\n",
    "y_pred_tr = best_SVM.predict(X_train)\n",
    "accuracy_tr = accuracy_score(y_train, y_pred_tr)\n",
    "print('train accuracy:', 100*accuracy_tr)\n",
    "y_pred_ts = best_SVM.predict(X_test)\n",
    "accuarcy_ts = accuracy_score(y_test, y_pred_ts)\n",
    "print('test accuracy:', 100*accuarcy_ts)"
   ]
  },
  {
   "cell_type": "code",
   "execution_count": 313,
   "id": "725a5565",
   "metadata": {},
   "outputs": [
    {
     "name": "stdout",
     "output_type": "stream",
     "text": [
      "Accuracy training: 100.00%\n",
      "Accuracy: 82.70%\n"
     ]
    }
   ],
   "source": [
    "# MLP classifier\n",
    "mlp = MLPClassifier(hidden_layer_sizes=(300,150,10),\n",
    "                    max_iter=200,\n",
    "                    solver='sgd',\n",
    "                    #verbose=10,\n",
    "                    random_state=42,\n",
    "                    learning_rate_init=0.1,\n",
    "                    momentum = 0.9,\n",
    "                    warm_start=True,\n",
    "                    n_iter_no_change=10)\n",
    "\n",
    "# Train\n",
    "mlp.fit(X_train, y_train)\n",
    "\n",
    "# Evaluate\n",
    "y_pred_tr = mlp.predict(X_train)\n",
    "accuracy_tr = accuracy_score(y_train, y_pred_tr)\n",
    "print(f\"Accuracy training: {accuracy_tr * 100:.2f}%\")\n",
    "y_pred = mlp.predict(X_test)\n",
    "accuracy = accuracy_score(y_test, y_pred)\n",
    "print(f\"Accuracy: {accuracy * 100:.2f}%\")\n"
   ]
  },
  {
   "cell_type": "code",
   "execution_count": 314,
   "id": "15acad28",
   "metadata": {},
   "outputs": [
    {
     "name": "stdout",
     "output_type": "stream",
     "text": [
      "Accuracy: 73.10%\n"
     ]
    }
   ],
   "source": [
    "k = 10\n",
    "knnClassifier = KNeighborsClassifier(n_neighbors=k) #k - Nearest Neighbour Classifier\n",
    "knnClassifier.fit(X_train, y_train) # fit to train set\n",
    "y_pred = knnClassifier.predict(X_test) #prediction in test set\n",
    "accuracy = accuracy_score(y_test, y_pred) #find accuracy\n",
    "classification_error = 1 - accuracy #classification error in test set\n",
    "print(f\"Accuracy: {accuracy * 100:.2f}%\")\n"
   ]
  },
  {
   "cell_type": "code",
   "execution_count": 315,
   "id": "215275b7",
   "metadata": {},
   "outputs": [
    {
     "name": "stdout",
     "output_type": "stream",
     "text": [
      "Accuracy: 77.40%\n"
     ]
    }
   ],
   "source": [
    "from sklearn.ensemble import RandomForestClassifier\n",
    "clf = RandomForestClassifier()\n",
    "clf.fit(X_train, y_train) # fit to train set\n",
    "y_pred =clf.predict(X_test) #prediction in test set\n",
    "accuracy = accuracy_score(y_test, y_pred) #find accuracy\n",
    "classification_error = 1 - accuracy #classification error in test set\n",
    "print(f\"Accuracy: {accuracy * 100:.2f}%\")"
   ]
  },
  {
   "cell_type": "code",
   "execution_count": 316,
   "id": "5c154297",
   "metadata": {},
   "outputs": [
    {
     "name": "stdout",
     "output_type": "stream",
     "text": [
      "Accuracy: 85.50%\n"
     ]
    }
   ],
   "source": [
    "#histogram boosting gradient classifer\n",
    "from sklearn.ensemble import HistGradientBoostingClassifier\n",
    "hgb_classifier = HistGradientBoostingClassifier()\n",
    "hgb_classifier.fit(X_train,y_train)\n",
    "y_pred = hgb_classifier.predict(X_test)\n",
    "accuracy = accuracy_score(y_test, y_pred) #find accuracy\n",
    "classification_error = 1 - accuracy #classification error in test set\n",
    "print(f\"Accuracy: {accuracy * 100:.2f}%\")"
   ]
  },
  {
   "cell_type": "code",
   "execution_count": 317,
   "id": "b6dc639b",
   "metadata": {},
   "outputs": [
    {
     "name": "stdout",
     "output_type": "stream",
     "text": [
      "Accuracy: 85.2\n"
     ]
    }
   ],
   "source": [
    "#pip install xgboost\n",
    "import xgboost as xgb\n",
    "#Creating an XGBoost classifier\n",
    "model = xgb.XGBClassifier(objective = \"multi:softmax\", num_class = 5, eta = 0.5)\n",
    "\n",
    "#Training the model on the training data\n",
    "model.fit(X_train, y_train-1)\n",
    "\n",
    "#Making predictions on the test set\n",
    "predictions = model.predict(X_test)\n",
    "\n",
    "#Calculating accuracy\n",
    "accuracy = accuracy_score(y_test-1, predictions)\n",
    "\n",
    "print(\"Accuracy:\", 100*accuracy)"
   ]
  },
  {
   "cell_type": "code",
   "execution_count": 323,
   "id": "fd446288",
   "metadata": {},
   "outputs": [
    {
     "name": "stdout",
     "output_type": "stream",
     "text": [
      "train accuracy: 100.0\n",
      "test accuracy: 88.0\n"
     ]
    }
   ],
   "source": [
    "#Final selected best model\n",
    "final = SVC(kernel = 'poly', class_weight = 'balanced', C = 1, coef0 = 0.2, degree = 2, gamma = 0.6)\n",
    "final.fit(X_train, y_train)\n",
    "y_pred_tr = final.predict(X_train)\n",
    "accuracy_tr = accuracy_score(y_train, y_pred_tr)\n",
    "print('train accuracy:', 100*accuracy_tr)\n",
    "y_pred_ts = final.predict(X_test)\n",
    "accuarcy_ts = accuracy_score(y_test, y_pred_ts)\n",
    "print('test accuracy:', 100*accuarcy_ts)"
   ]
  },
  {
   "cell_type": "code",
   "execution_count": 320,
   "id": "6f72ea2f",
   "metadata": {},
   "outputs": [
    {
     "name": "stdout",
     "output_type": "stream",
     "text": [
      "train accuracy: 100.0\n"
     ]
    }
   ],
   "source": [
    "#save labelsX\n",
    "final = SVC(kernel = 'poly', class_weight = 'balanced', C = 1, coef0 = 0.2, degree = 2, gamma = 0.6)\n",
    "final.fit(X_train, y_train)\n",
    "y_pred_tr = final.predict(X_train)\n",
    "accuracy_tr = accuracy_score(y_train, y_pred_tr)\n",
    "print('train accuracy:', 100*accuracy_tr)\n",
    "\n",
    "y_pred_ts = final.predict(X_TEST_C)\n",
    "np.save('labelsX.npy', y_pred_ts)"
   ]
  },
  {
   "cell_type": "code",
   "execution_count": 321,
   "id": "2177bc81",
   "metadata": {},
   "outputs": [],
   "source": [
    "#yC= np.load('labelsX.npy')"
   ]
  }
 ],
 "metadata": {
  "kernelspec": {
   "display_name": "Python 3 (ipykernel)",
   "language": "python",
   "name": "python3"
  },
  "language_info": {
   "codemirror_mode": {
    "name": "ipython",
    "version": 3
   },
   "file_extension": ".py",
   "mimetype": "text/x-python",
   "name": "python",
   "nbconvert_exporter": "python",
   "pygments_lexer": "ipython3",
   "version": "3.11.5"
  }
 },
 "nbformat": 4,
 "nbformat_minor": 5
}
